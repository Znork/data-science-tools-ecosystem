{
 "cells": [
  {
   "cell_type": "markdown",
   "id": "24ce5a62-87c0-40f3-9603-46c045999177",
   "metadata": {},
   "source": [
    "# Data Science Tools and Ecosystem"
   ]
  },
  {
   "cell_type": "markdown",
   "id": "4ffd576e-4b74-4595-930b-5ec5c18c479f",
   "metadata": {},
   "source": [
    "En este cuaderno, se resumen las herramientas y ecosistemas de ciencia de datos."
   ]
  },
  {
   "cell_type": "markdown",
   "id": "f291f30d-4b19-4737-b7ae-d0e0832c15d7",
   "metadata": {},
   "source": [
    "**Objetivos:**\n",
    "\n",
    "- Lengguajes Populares\n",
    "- Bibliotecas comunes\n",
    "- Herramientas de Ciencias de Datos\n",
    "- Expresiones aritmeticas "
   ]
  },
  {
   "cell_type": "markdown",
   "id": "55bc11d7-e847-4dfe-9972-581217927e2f",
   "metadata": {},
   "source": [
    "Algunos de los lenguajes populares que utilizan los científicos de datos son:\n",
    "\n",
    "1. Python\n",
    "2. R\n",
    "3. SQL"
   ]
  },
  {
   "cell_type": "markdown",
   "id": "64342087-d318-4d9d-93cd-c021cb9be85f",
   "metadata": {},
   "source": [
    "lgunas de las bibliotecas comúnmente utilizadas por los científicos de datos incluyen:\n",
    "\n",
    "1. NumPy\n",
    "2. Pandas\n",
    "3. Matplotlib"
   ]
  },
  {
   "cell_type": "markdown",
   "id": "fe029c7d-ba5a-48b9-8590-fdbcf9680cf7",
   "metadata": {},
   "source": [
    "| Herramientas de Ciencia de Datos |\n",
    "| --- |\n",
    "| JupyterLab |\n",
    "| RStudio |\n",
    "| Spyder |"
   ]
  },
  {
   "cell_type": "markdown",
   "id": "a86aceda-95b8-4075-9a07-27425c72a9e3",
   "metadata": {},
   "source": [
    "### A continuación, se presentan algunos ejemplos de evaluación de expresiones aritméticas en Python\n",
    "\n",
    "Addition operation\n",
    "2+2\n",
    "\n",
    "Multiplication operation\n",
    "2.5*3.5"
   ]
  },
  {
   "cell_type": "code",
   "execution_count": 6,
   "id": "af576f5f-9c14-48f3-b6d8-21d5cfd416e5",
   "metadata": {
    "scrolled": true
   },
   "outputs": [
    {
     "data": {
      "text/plain": [
       "17"
      ]
     },
     "execution_count": 6,
     "metadata": {},
     "output_type": "execute_result"
    }
   ],
   "source": [
    "# Esta es una expresión aritmética simple para multiplicar y luego sumar enteros\n",
    "(3 * 4) + 5"
   ]
  },
  {
   "cell_type": "code",
   "execution_count": 7,
   "id": "2e165799-ccb5-4f43-8549-38e41e1742bb",
   "metadata": {},
   "outputs": [
    {
     "data": {
      "text/plain": [
       "3.3333333333333335"
      ]
     },
     "execution_count": 7,
     "metadata": {},
     "output_type": "execute_result"
    }
   ],
   "source": [
    "# Esto convertirá 200 minutos a horas dividiendo por 60\n",
    "200 / 60"
   ]
  },
  {
   "cell_type": "markdown",
   "id": "eb4f5feb-44c9-4197-bc75-7d939672b0c9",
   "metadata": {},
   "source": [
    "## Autor\n",
    "Isaac Rios"
   ]
  },
  {
   "cell_type": "code",
   "execution_count": null,
   "id": "bea654bd-efc9-4013-963a-2082d0d25d79",
   "metadata": {},
   "outputs": [],
   "source": []
  },
  {
   "cell_type": "code",
   "execution_count": null,
   "id": "7ed91b10-676e-4c7b-be66-d9a992cc52fd",
   "metadata": {},
   "outputs": [],
   "source": []
  }
 ],
 "metadata": {
  "kernelspec": {
   "display_name": "Python 3 (ipykernel)",
   "language": "python",
   "name": "python3"
  },
  "language_info": {
   "codemirror_mode": {
    "name": "ipython",
    "version": 3
   },
   "file_extension": ".py",
   "mimetype": "text/x-python",
   "name": "python",
   "nbconvert_exporter": "python",
   "pygments_lexer": "ipython3",
   "version": "3.12.8"
  }
 },
 "nbformat": 4,
 "nbformat_minor": 5
}
